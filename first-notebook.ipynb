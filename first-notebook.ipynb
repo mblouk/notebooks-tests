{
 "cells": [
  {
   "cell_type": "code",
   "execution_count": 1,
   "metadata": {
    "collapsed": true,
    "nbpresent": {
     "id": "54b63ed1-e84a-4423-847a-c62ca519d076"
    }
   },
   "outputs": [],
   "source": [
    "from ipywidgets import interact, interactive, fixed, interact_manual\n",
    "import ipywidgets as widgets"
   ]
  },
  {
   "cell_type": "code",
   "execution_count": 2,
   "metadata": {
    "collapsed": true,
    "nbpresent": {
     "id": "b2f497cd-227c-451f-a8f3-8d273ffa82a2"
    }
   },
   "outputs": [],
   "source": [
    "def f(x):\n",
    "    return x"
   ]
  },
  {
   "cell_type": "code",
   "execution_count": 3,
   "metadata": {
    "nbpresent": {
     "id": "d14d2b6c-e813-4bb8-ac63-a1a92334d066"
    }
   },
   "outputs": [
    {
     "data": {
      "application/vnd.jupyter.widget-view+json": {
       "model_id": "7f0f75a66dca435bb10f89665c7d52c3"
      }
     },
     "metadata": {},
     "output_type": "display_data"
    }
   ],
   "source": [
    "interact(f, x=10);"
   ]
  },
  {
   "cell_type": "markdown",
   "metadata": {
    "nbpresent": {
     "id": "137f856a-6a05-4ac8-a8b5-06f9d05db927"
    }
   },
   "source": [
    "This is a presentation of the widgets"
   ]
  },
  {
   "cell_type": "code",
   "execution_count": null,
   "metadata": {
    "collapsed": true
   },
   "outputs": [],
   "source": []
  },
  {
   "cell_type": "code",
   "execution_count": null,
   "metadata": {
    "collapsed": true
   },
   "outputs": [],
   "source": []
  }
 ],
 "metadata": {
  "anaconda-cloud": {},
  "kernelspec": {
   "display_name": "Python [conda root]",
   "language": "python",
   "name": "conda-root-py"
  },
  "language_info": {
   "codemirror_mode": {
    "name": "ipython",
    "version": 3
   },
   "file_extension": ".py",
   "mimetype": "text/x-python",
   "name": "python",
   "nbconvert_exporter": "python",
   "pygments_lexer": "ipython3",
   "version": "3.5.2"
  },
  "nbpresent": {
   "slides": {
    "14151167-326a-4e36-a8ee-65f54d862493": {
     "id": "14151167-326a-4e36-a8ee-65f54d862493",
     "layout": "grid",
     "prev": null,
     "regions": {
      "3a194d87-9fdf-4076-9379-4d7a6a55c4ba": {
       "attrs": {
        "height": 0.8333333333333334,
        "pad": 0.01,
        "width": 0.4166666666666667,
        "x": 0.5,
        "y": 0.08333333333333333
       },
       "content": {
        "cell": "d14d2b6c-e813-4bb8-ac63-a1a92334d066",
        "part": "whole"
       },
       "id": "3a194d87-9fdf-4076-9379-4d7a6a55c4ba"
      },
      "e14a9453-dd7f-412a-8a76-d09ea9aa4bcc": {
       "attrs": {
        "height": 0.8333333333333334,
        "pad": 0.01,
        "width": 0.4166666666666667,
        "x": 0,
        "y": 0.08333333333333333
       },
       "content": {
        "cell": "137f856a-6a05-4ac8-a8b5-06f9d05db927",
        "part": "source"
       },
       "id": "e14a9453-dd7f-412a-8a76-d09ea9aa4bcc"
      }
     }
    }
   },
   "themes": {}
  },
  "widgets": {
   "application/vnd.jupyter.widget-state+json": {
    "state": {
     "31c657ea212f4bcfa8480135267f16e8": {
      "model_module": "jupyter-js-widgets",
      "model_module_version": "~2.1.4",
      "model_name": "LayoutModel",
      "state": {
       "_model_module_version": "~2.1.4",
       "_view_module_version": "~2.1.4"
      }
     },
     "61a8663ca3d245058556be997e8d4c87": {
      "model_module": "jupyter-js-widgets",
      "model_module_version": "~2.1.4",
      "model_name": "LayoutModel",
      "state": {
       "_model_module_version": "~2.1.4",
       "_view_module_version": "~2.1.4"
      }
     },
     "7c771605de324084aab87643d7ab0469": {
      "model_module": "jupyter-js-widgets",
      "model_module_version": "~2.1.4",
      "model_name": "SliderStyleModel",
      "state": {
       "_model_module_version": "~2.1.4",
       "_view_module_version": "~2.1.4"
      }
     },
     "7f0f75a66dca435bb10f89665c7d52c3": {
      "model_module": "jupyter-js-widgets",
      "model_module_version": "~2.1.4",
      "model_name": "VBoxModel",
      "state": {
       "_dom_classes": [
        "widget-interact"
       ],
       "_model_module_version": "~2.1.4",
       "_view_module_version": "~2.1.4",
       "children": [
        "IPY_MODEL_c20b72994a61406186230a2108f1472c",
        "IPY_MODEL_dc6c08133aa7444b850f3c7e599faef7"
       ],
       "layout": "IPY_MODEL_c8c2aea58cc945448a7e77bbc4a5554d"
      }
     },
     "c20b72994a61406186230a2108f1472c": {
      "model_module": "jupyter-js-widgets",
      "model_module_version": "~2.1.4",
      "model_name": "IntSliderModel",
      "state": {
       "_model_module_version": "~2.1.4",
       "_view_module_version": "~2.1.4",
       "description": "x",
       "layout": "IPY_MODEL_61a8663ca3d245058556be997e8d4c87",
       "max": 30,
       "min": -10,
       "style": "IPY_MODEL_7c771605de324084aab87643d7ab0469",
       "value": 10
      }
     },
     "c8c2aea58cc945448a7e77bbc4a5554d": {
      "model_module": "jupyter-js-widgets",
      "model_module_version": "~2.1.4",
      "model_name": "LayoutModel",
      "state": {
       "_model_module_version": "~2.1.4",
       "_view_module_version": "~2.1.4"
      }
     },
     "dc6c08133aa7444b850f3c7e599faef7": {
      "model_module": "jupyter-js-widgets",
      "model_module_version": "~2.1.4",
      "model_name": "OutputModel",
      "state": {
       "_dom_classes": [],
       "_model_module": "jupyter-js-widgets",
       "_model_module_version": "~2.1.4",
       "_view_module": "jupyter-js-widgets",
       "_view_module_version": "~2.1.4",
       "layout": "IPY_MODEL_31c657ea212f4bcfa8480135267f16e8",
       "msg_throttle": 1
      }
     }
    },
    "version_major": 1,
    "version_minor": 0
   }
  }
 },
 "nbformat": 4,
 "nbformat_minor": 1
}
