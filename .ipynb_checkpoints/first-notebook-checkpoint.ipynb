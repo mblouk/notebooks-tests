{
 "cells": [
  {
   "cell_type": "code",
   "execution_count": 1,
   "metadata": {
    "collapsed": true,
    "nbpresent": {
     "id": "54b63ed1-e84a-4423-847a-c62ca519d076"
    }
   },
   "outputs": [],
   "source": [
    "from ipywidgets import interact, interactive, fixed, interact_manual\n",
    "import ipywidgets as widgets"
   ]
  },
  {
   "cell_type": "code",
   "execution_count": 2,
   "metadata": {
    "collapsed": true,
    "nbpresent": {
     "id": "b2f497cd-227c-451f-a8f3-8d273ffa82a2"
    }
   },
   "outputs": [],
   "source": [
    "def f(x):\n",
    "    return x"
   ]
  },
  {
   "cell_type": "code",
   "execution_count": 3,
   "metadata": {
    "collapsed": false,
    "nbpresent": {
     "id": "d14d2b6c-e813-4bb8-ac63-a1a92334d066"
    }
   },
   "outputs": [
    {
     "data": {
      "text/plain": [
       "10"
      ]
     },
     "metadata": {},
     "output_type": "display_data"
    }
   ],
   "source": [
    "interact(f, x=10);"
   ]
  },
  {
   "cell_type": "markdown",
   "metadata": {
    "nbpresent": {
     "id": "137f856a-6a05-4ac8-a8b5-06f9d05db927"
    }
   },
   "source": [
    "This is a presentation of the widgets"
   ]
  },
  {
   "cell_type": "code",
   "execution_count": null,
   "metadata": {
    "collapsed": true
   },
   "outputs": [],
   "source": []
  },
  {
   "cell_type": "code",
   "execution_count": null,
   "metadata": {
    "collapsed": true
   },
   "outputs": [],
   "source": []
  }
 ],
 "metadata": {
  "anaconda-cloud": {},
  "kernelspec": {
   "display_name": "Python [conda root]",
   "language": "python",
   "name": "conda-root-py"
  },
  "language_info": {
   "codemirror_mode": {
    "name": "ipython",
    "version": 3
   },
   "file_extension": ".py",
   "mimetype": "text/x-python",
   "name": "python",
   "nbconvert_exporter": "python",
   "pygments_lexer": "ipython3",
   "version": "3.5.2"
  },
  "nbpresent": {
   "slides": {
    "14151167-326a-4e36-a8ee-65f54d862493": {
     "id": "14151167-326a-4e36-a8ee-65f54d862493",
     "layout": "grid",
     "prev": null,
     "regions": {
      "3a194d87-9fdf-4076-9379-4d7a6a55c4ba": {
       "attrs": {
        "height": 0.8333333333333334,
        "pad": 0.01,
        "width": 0.4166666666666667,
        "x": 0.5,
        "y": 0.08333333333333333
       },
       "content": {
        "cell": "d14d2b6c-e813-4bb8-ac63-a1a92334d066",
        "part": "whole"
       },
       "id": "3a194d87-9fdf-4076-9379-4d7a6a55c4ba"
      },
      "e14a9453-dd7f-412a-8a76-d09ea9aa4bcc": {
       "attrs": {
        "height": 0.8333333333333334,
        "pad": 0.01,
        "width": 0.4166666666666667,
        "x": 0,
        "y": 0.08333333333333333
       },
       "content": {
        "cell": "137f856a-6a05-4ac8-a8b5-06f9d05db927",
        "part": "source"
       },
       "id": "e14a9453-dd7f-412a-8a76-d09ea9aa4bcc"
      }
     }
    }
   },
   "themes": {}
  },
  "widgets": {
   "state": {
    "b39fa770647c4689b48f79913f72ae06": {
     "views": [
      {
       "cell_index": 2
      }
     ]
    }
   },
   "version": "1.2.0"
  }
 },
 "nbformat": 4,
 "nbformat_minor": 1
}
